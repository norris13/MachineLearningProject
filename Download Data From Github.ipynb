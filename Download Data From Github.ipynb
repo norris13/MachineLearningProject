{
 "cells": [
  {
   "cell_type": "code",
   "execution_count": 4,
   "metadata": {},
   "outputs": [],
   "source": [
    "# Im kind of lazy and tired and havent thought about the best way to make this file so it is usable by everyone\n",
    "# Should I accept command line arguments that represent the desired year, as well as the path you want to save the file to?\n",
    "import requests, zipfile, io\n",
    "zip_file_url = 'https://github.com/guga31bb/nflfastR-data/raw/master/data/play_by_play_1999.zip'\n",
    "r = requests.get(zip_file_url)\n",
    "z = zipfile.ZipFile(io.BytesIO(r.content))\n",
    "z.extractall(\"C:/Users/Bill/Desktop/test\")"
   ]
  },
  {
   "cell_type": "code",
   "execution_count": null,
   "metadata": {},
   "outputs": [],
   "source": []
  }
 ],
 "metadata": {
  "kernelspec": {
   "display_name": "Python 3",
   "language": "python",
   "name": "python3"
  },
  "language_info": {
   "codemirror_mode": {
    "name": "ipython",
    "version": 3
   },
   "file_extension": ".py",
   "mimetype": "text/x-python",
   "name": "python",
   "nbconvert_exporter": "python",
   "pygments_lexer": "ipython3",
   "version": "3.6.5"
  }
 },
 "nbformat": 4,
 "nbformat_minor": 2
}
